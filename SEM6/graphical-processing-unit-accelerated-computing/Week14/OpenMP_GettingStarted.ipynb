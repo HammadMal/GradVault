{
  "nbformat": 4,
  "nbformat_minor": 0,
  "metadata": {
    "colab": {
      "name": "OpenMP_GettingStarted.ipynb",
      "provenance": [],
      "authorship_tag": "ABX9TyP6VFhz6QvEcCKC7Q8PWVsB",
      "include_colab_link": true
    },
    "kernelspec": {
      "name": "python3",
      "display_name": "Python 3"
    },
    "language_info": {
      "name": "python"
    },
    "accelerator": "GPU"
  },
  "cells": [
    {
      "cell_type": "markdown",
      "metadata": {
        "id": "view-in-github",
        "colab_type": "text"
      },
      "source": [
        "<a href=\"https://colab.research.google.com/github/mmmovania/CUDA_Spring2023/blob/main/Week14/OpenMP_GettingStarted.ipynb\" target=\"_parent\"><img src=\"https://colab.research.google.com/assets/colab-badge.svg\" alt=\"Open In Colab\"/></a>"
      ]
    },
    {
      "cell_type": "code",
      "source": [
        "%%writefile code.c  \n",
        "// OpenMP program to print Hello World \n",
        "// using C language \n",
        "// OpenMP header \n",
        "#include <omp.h>   \n",
        "#include <stdio.h> \n",
        "#include <stdlib.h> \n",
        "  \n",
        "int main(int argc, char* argv[]) \n",
        "{ \n",
        "  \n",
        "    // Beginning of parallel region \n",
        "    #pragma omp parallel \n",
        "    { \n",
        "        printf(\"Hello World... from thread = %d \\\\n\", omp_get_thread_num()); \n",
        "    } \n",
        "    // Ending of parallel region \n",
        "} "
      ],
      "metadata": {
        "id": "sAHeA1vLtJ5q",
        "outputId": "b8c7a5c4-b143-4847-f0fe-02daec8bbd49",
        "colab": {
          "base_uri": "https://localhost:8080/"
        }
      },
      "execution_count": 1,
      "outputs": [
        {
          "output_type": "stream",
          "name": "stdout",
          "text": [
            "Writing code.c\n"
          ]
        }
      ]
    },
    {
      "cell_type": "code",
      "source": [
        "%env OMP_NUM_THREADS=3"
      ],
      "metadata": {
        "colab": {
          "base_uri": "https://localhost:8080/"
        },
        "id": "heFe3XJIu-0r",
        "outputId": "74e47a92-1267-4815-9eec-2514fae0cfb4"
      },
      "execution_count": 2,
      "outputs": [
        {
          "output_type": "stream",
          "name": "stdout",
          "text": [
            "env: OMP_NUM_THREADS=3\n"
          ]
        }
      ]
    },
    {
      "cell_type": "code",
      "source": [
        "!gcc -o hello -fopenmp code.c"
      ],
      "metadata": {
        "id": "QLlWm31HaD5L"
      },
      "execution_count": 3,
      "outputs": []
    },
    {
      "cell_type": "code",
      "source": [
        "!./hello"
      ],
      "metadata": {
        "colab": {
          "base_uri": "https://localhost:8080/"
        },
        "id": "VWJqXMLbaHgX",
        "outputId": "0ef61f93-b97c-4bce-f0e6-73250f6284c7"
      },
      "execution_count": 4,
      "outputs": [
        {
          "output_type": "stream",
          "name": "stdout",
          "text": [
            "Hello World... from thread = 0 \\nHello World... from thread = 2 \\nHello World... from thread = 1 \\n"
          ]
        }
      ]
    },
    {
      "cell_type": "markdown",
      "source": [
        "Now do examples given here: https://www.openmp.org/wp-content/uploads/openmp-examples-4.5.0.pdf"
      ],
      "metadata": {
        "id": "gotBOSk5au4k"
      }
    }
  ]
}