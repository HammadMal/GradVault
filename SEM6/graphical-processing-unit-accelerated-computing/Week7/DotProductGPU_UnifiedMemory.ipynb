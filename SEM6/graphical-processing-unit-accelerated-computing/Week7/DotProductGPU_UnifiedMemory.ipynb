{
  "nbformat": 4,
  "nbformat_minor": 0,
  "metadata": {
    "colab": {
      "provenance": [],
      "include_colab_link": true
    },
    "kernelspec": {
      "name": "python3",
      "display_name": "Python 3"
    },
    "language_info": {
      "name": "python"
    },
    "accelerator": "GPU"
  },
  "cells": [
    {
      "cell_type": "markdown",
      "metadata": {
        "id": "view-in-github",
        "colab_type": "text"
      },
      "source": [
        "<a href=\"https://colab.research.google.com/github/mmmovania/CUDA_Spring2023/blob/main/Week7/DotProductGPU_UnifiedMemory.ipynb\" target=\"_parent\"><img src=\"https://colab.research.google.com/assets/colab-badge.svg\" alt=\"Open In Colab\"/></a>"
      ]
    },
    {
      "cell_type": "code",
      "execution_count": 1,
      "metadata": {
        "colab": {
          "base_uri": "https://localhost:8080/"
        },
        "id": "OB2MY3st-VUm",
        "outputId": "656d7016-fb01-4196-8741-1d409903382d"
      },
      "outputs": [
        {
          "output_type": "stream",
          "name": "stdout",
          "text": [
            "Looking in indexes: https://pypi.org/simple, https://us-python.pkg.dev/colab-wheels/public/simple/\n",
            "Collecting git+https://github.com/andreinechaev/nvcc4jupyter.git\n",
            "  Cloning https://github.com/andreinechaev/nvcc4jupyter.git to /tmp/pip-req-build-w_t7g2j0\n",
            "  Running command git clone --filter=blob:none --quiet https://github.com/andreinechaev/nvcc4jupyter.git /tmp/pip-req-build-w_t7g2j0\n",
            "  Resolved https://github.com/andreinechaev/nvcc4jupyter.git to commit aac710a35f52bb78ab34d2e52517237941399eff\n",
            "  Preparing metadata (setup.py) ... \u001b[?25l\u001b[?25hdone\n",
            "Building wheels for collected packages: NVCCPlugin\n",
            "  Building wheel for NVCCPlugin (setup.py) ... \u001b[?25l\u001b[?25hdone\n",
            "  Created wheel for NVCCPlugin: filename=NVCCPlugin-0.0.2-py3-none-any.whl size=4304 sha256=46ac84c3b92eff0b41b60e8e1f272247df34e522f8ffa722b1f2213374aa0e73\n",
            "  Stored in directory: /tmp/pip-ephem-wheel-cache-z19rg1dp/wheels/f3/08/cc/e2b5b0e1c92df07dbb50a6f024a68ce090f5e7b2316b41756d\n",
            "Successfully built NVCCPlugin\n",
            "Installing collected packages: NVCCPlugin\n",
            "Successfully installed NVCCPlugin-0.0.2\n",
            "created output directory at /content/src\n",
            "Out bin /content/result.out\n"
          ]
        }
      ],
      "source": [
        "!pip install git+https://github.com/andreinechaev/nvcc4jupyter.git\n",
        "%load_ext nvcc_plugin"
      ]
    },
    {
      "cell_type": "code",
      "source": [
        "%%cu\n",
        "#include <stdio.h>\n",
        "const int N = 33 * 1024;\n",
        "const int threadsPerBlock = 256;\n",
        "\n",
        "#define imin(a,b) (a<b?a:b)\n",
        "\n",
        "const int blocksPerGrid =  imin( 32, (N+threadsPerBlock-1) / threadsPerBlock );\n",
        "\n",
        "inline cudaError_t checkCudaErr(cudaError_t err, const char* msg) {\n",
        "\tif (err != cudaSuccess) {\n",
        "\t\tfprintf(stderr, \"CUDA Runtime error at %s: %s\\n\", msg, cudaGetErrorString(err));\n",
        "\t}\n",
        "\treturn err;\n",
        "}\n",
        "\n",
        "__global__ void dot( float *a, float *b, float *c ) {\n",
        "\t__shared__ float cache[threadsPerBlock];\n",
        "\tint tid = threadIdx.x + blockIdx.x * blockDim.x;\n",
        "\tint cacheIndex = threadIdx.x;\n",
        "\n",
        "\tfloat   temp = 0;\n",
        "\twhile (tid < N) {\n",
        "\t\ttemp += a[tid] * b[tid];\n",
        "\t\ttid += blockDim.x * gridDim.x;\n",
        "\t}\n",
        "\n",
        "\t// set the cache values\n",
        "\tcache[cacheIndex] = temp;\n",
        "\n",
        "\t// synchronize threads in this block\n",
        "\t__syncthreads();\n",
        "\n",
        "\t// for reductions, threadsPerBlock must be a power of 2\n",
        "\t// because of the following code\n",
        "\tint i = blockDim.x/2;\n",
        "\twhile (i != 0) {\n",
        "\t\tif (cacheIndex < i)\n",
        "\t\t\tcache[cacheIndex] += cache[cacheIndex + i];\n",
        "\t\t__syncthreads();\n",
        "\t\ti /= 2;\n",
        "\t}\n",
        "\n",
        "\tif (cacheIndex == 0)\n",
        "\t\tc[blockIdx.x] = cache[0];\n",
        "}\n",
        "\n",
        "\n",
        "int main() { \n",
        "\tfloat   *a, *b, *partial_c, c=0; \n",
        "\n",
        "\t// Allocate Unified Memory -- accessible from CPU or GPU\n",
        "\tcheckCudaErr(cudaMallocManaged(&a, N*sizeof(float)), \"cudaMallocManaged1\");\n",
        "\tcheckCudaErr(cudaMallocManaged(&b, N*sizeof(float)), \"cudaMallocManaged2\");\n",
        "\tcheckCudaErr(cudaMallocManaged(&partial_c, blocksPerGrid*sizeof(float)), \"cudaMallocManaged3\");\n",
        "\n",
        "\t// fill in the memory with data\n",
        "\tfor (int i=0; i<N; i++) {\n",
        "\t\ta[i] = i;\n",
        "\t\tb[i] = i*2;\n",
        "\t} \n",
        "\n",
        "\tdot<<<blocksPerGrid,threadsPerBlock>>>( a, b,  partial_c );\n",
        "\n",
        "\tcudaDeviceSynchronize();\n",
        "\n",
        "\t// finish up on the CPU side\n",
        "\tc = 0;\n",
        "\tfor (int i=0; i<blocksPerGrid; i++) {\n",
        "\t\tc += partial_c[i];\n",
        "\t}\n",
        "\n",
        "\t#define sum_squares(x)  (x*(x+1)*(2*x+1)/6)\n",
        "\tprintf( \"Does GPU value %.6g = %.6g?\\n\", c, 2 * sum_squares( (float)(N - 1) ) );\n",
        "\n",
        "\t// free memory on the gpu side\n",
        "\tcheckCudaErr( cudaFree( a ) , \"cudaFree1\");\n",
        "\tcheckCudaErr( cudaFree( b ) , \"cudaFree2\");\n",
        "\tcheckCudaErr( cudaFree( partial_c ) , \"cudaFree3\");\n",
        "\tcheckCudaErr( cudaDeviceReset(), \"cudaDeviceReset\");\n",
        "\n",
        "\treturn 0;\n",
        "}"
      ],
      "metadata": {
        "colab": {
          "base_uri": "https://localhost:8080/"
        },
        "id": "GYZ627HO-XKd",
        "outputId": "d334971f-9f2a-495c-997f-560e99e379dc"
      },
      "execution_count": 2,
      "outputs": [
        {
          "output_type": "stream",
          "name": "stdout",
          "text": [
            "Does GPU value 2.57236e+13 = 2.57236e+13?\n",
            "\n"
          ]
        }
      ]
    }
  ]
}