{
  "cells": [
    {
      "cell_type": "markdown",
      "metadata": {
        "colab_type": "text",
        "id": "view-in-github"
      },
      "source": [
        "<a href=\"https://colab.research.google.com/github/mmmovania/CUDA_Spring2023/blob/main/Week6/DotProductGPU.ipynb\" target=\"_parent\"><img src=\"https://colab.research.google.com/assets/colab-badge.svg\" alt=\"Open In Colab\"/></a>"
      ]
    },
    {
      "cell_type": "code",
      "execution_count": 1,
      "metadata": {
        "colab": {
          "base_uri": "https://localhost:8080/"
        },
        "id": "OB2MY3st-VUm",
        "outputId": "eaa03176-07c8-4eb3-e368-084d830a3a0d"
      },
      "outputs": [
        {
          "name": "stdout",
          "output_type": "stream",
          "text": [
            "Looking in indexes: https://pypi.org/simple, https://us-python.pkg.dev/colab-wheels/public/simple/\n",
            "Collecting git+https://github.com/andreinechaev/nvcc4jupyter.git\n",
            "  Cloning https://github.com/andreinechaev/nvcc4jupyter.git to /tmp/pip-req-build-d6n3s9_e\n",
            "  Running command git clone --filter=blob:none --quiet https://github.com/andreinechaev/nvcc4jupyter.git /tmp/pip-req-build-d6n3s9_e\n",
            "  Resolved https://github.com/andreinechaev/nvcc4jupyter.git to commit aac710a35f52bb78ab34d2e52517237941399eff\n",
            "  Preparing metadata (setup.py) ... \u001b[?25l\u001b[?25hdone\n",
            "Building wheels for collected packages: NVCCPlugin\n",
            "  Building wheel for NVCCPlugin (setup.py) ... \u001b[?25l\u001b[?25hdone\n",
            "  Created wheel for NVCCPlugin: filename=NVCCPlugin-0.0.2-py3-none-any.whl size=4304 sha256=8e4eb567694f2733afb23465f3a6bff6b2bcd6b345bc98eba64006e977272772\n",
            "  Stored in directory: /tmp/pip-ephem-wheel-cache-h5x4ty_l/wheels/f3/08/cc/e2b5b0e1c92df07dbb50a6f024a68ce090f5e7b2316b41756d\n",
            "Successfully built NVCCPlugin\n",
            "Installing collected packages: NVCCPlugin\n",
            "Successfully installed NVCCPlugin-0.0.2\n",
            "created output directory at /content/src\n",
            "Out bin /content/result.out\n"
          ]
        }
      ],
      "source": [
        "!pip install git+https://github.com/andreinechaev/nvcc4jupyter.git\n",
        "%load_ext nvcc_plugin"
      ]
    },
    {
      "cell_type": "code",
      "execution_count": 2,
      "metadata": {
        "colab": {
          "base_uri": "https://localhost:8080/"
        },
        "id": "GYZ627HO-XKd",
        "outputId": "7594c97b-c3ac-46fc-f406-c9c32199ecb7"
      },
      "outputs": [
        {
          "name": "stdout",
          "output_type": "stream",
          "text": [
            "Does GPU value 2.57236e+13 = 2.57236e+13?\n",
            "\n"
          ]
        }
      ],
      "source": [
        "%%cu\n",
        "#include <stdio.h>\n",
        "const int N = 33 * 1024;\n",
        "const int threadsPerBlock = 256;\n",
        "\n",
        "#define imin(a,b) (a<b?a:b)\n",
        "\n",
        "const int blocksPerGrid =  imin( 32, (N+threadsPerBlock-1) / threadsPerBlock );\n",
        "\n",
        "inline cudaError_t checkCudaErr(cudaError_t err, const char* msg) {\n",
        "  if (err != cudaSuccess) {\n",
        "    fprintf(stderr, \"CUDA Runtime error at %s: %s\\n\", msg, cudaGetErrorString(err));\n",
        "  }\n",
        "  return err;\n",
        "}\n",
        "\n",
        "__global__ void dot( float *a, float *b, float *c ) {\n",
        "    __shared__ float cache[threadsPerBlock];\n",
        "    int tid = threadIdx.x + blockIdx.x * blockDim.x;\n",
        "    int cacheIndex = threadIdx.x;\n",
        "\n",
        "    float   temp = 0;\n",
        "    while (tid < N) {\n",
        "        temp += a[tid] * b[tid];\n",
        "        tid += blockDim.x * gridDim.x;\n",
        "    }\n",
        "    \n",
        "    // set the cache values\n",
        "    cache[cacheIndex] = temp;\n",
        "    \n",
        "    // synchronize threads in this block\n",
        "    __syncthreads();\n",
        "\n",
        "    // for reductions, threadsPerBlock must be a power of 2\n",
        "    // because of the following code\n",
        "    int i = blockDim.x/2;\n",
        "    while (i != 0) {\n",
        "        if (cacheIndex < i)\n",
        "            cache[cacheIndex] += cache[cacheIndex + i];\n",
        "        __syncthreads();\n",
        "        i /= 2;\n",
        "    }\n",
        "\n",
        "    if (cacheIndex == 0)\n",
        "        c[blockIdx.x] = cache[0];\n",
        "}\n",
        "  \n",
        "\n",
        "int main() { \n",
        "\t\tfloat   *a, *b, c, *partial_c;\n",
        "    float   *dev_a, *dev_b, *dev_partial_c;\n",
        "\n",
        "    // allocate memory on the cpu side\n",
        "    a = (float*)malloc( N*sizeof(float) );\n",
        "    b = (float*)malloc( N*sizeof(float) );\n",
        "    partial_c = (float*)malloc( blocksPerGrid*sizeof(float) );\n",
        "\n",
        "    // allocate the memory on the GPU\n",
        "    checkCudaErr( cudaMalloc( (void**)&dev_a,\n",
        "                              N*sizeof(float) ) , \"cudaMalloc1\");\n",
        "    checkCudaErr( cudaMalloc( (void**)&dev_b,\n",
        "                              N*sizeof(float) ) , \"cudaMalloc2\");\n",
        "    checkCudaErr( cudaMalloc( (void**)&dev_partial_c,\n",
        "                              blocksPerGrid*sizeof(float) ) , \"cudaMalloc3\");\n",
        "\n",
        "    // fill in the host memory with data\n",
        "    for (int i=0; i<N; i++) {\n",
        "        a[i] = i;\n",
        "        b[i] = i*2;\n",
        "    }\n",
        "\n",
        "    // copy the arrays 'a' and 'b' to the GPU\n",
        "    checkCudaErr( cudaMemcpy( dev_a, a, N*sizeof(float),\n",
        "                              cudaMemcpyHostToDevice ), \"cudaMemCpy1\" );\n",
        "    checkCudaErr( cudaMemcpy( dev_b, b, N*sizeof(float),\n",
        "                              cudaMemcpyHostToDevice ) , \"cudaMemCpy2\"); \n",
        "\n",
        "    dot<<<blocksPerGrid,threadsPerBlock>>>( dev_a, dev_b,\n",
        "                                            dev_partial_c );\n",
        "\n",
        "    // copy the array 'c' back from the GPU to the CPU\n",
        "    checkCudaErr( cudaMemcpy( partial_c, dev_partial_c,\n",
        "                              blocksPerGrid*sizeof(float),\n",
        "                              cudaMemcpyDeviceToHost ), \"cudaMemCpy3\" );\n",
        "\n",
        "    // finish up on the CPU side\n",
        "    \n",
        "    c = 0;\n",
        "    for (int i=0; i<blocksPerGrid; i++) {\n",
        "        c += partial_c[i];\n",
        "    }\n",
        "\n",
        "    #define sum_squares(x)  (x*(x+1)*(2*x+1)/6)\n",
        "    printf( \"Does GPU value %.6g = %.6g?\\n\", c,\n",
        "             2 * sum_squares( (float)(N - 1) ) );\n",
        "\n",
        "    // free memory on the gpu side\n",
        "    checkCudaErr( cudaFree( dev_a ) , \"cudaFree1\");\n",
        "    checkCudaErr( cudaFree( dev_b ) , \"cudaFree2\");\n",
        "    checkCudaErr( cudaFree( dev_partial_c ) , \"cudaFree3\");\n",
        "\n",
        "    // free memory on the cpu side\n",
        "    free( a );\n",
        "    free( b );\n",
        "    free( partial_c );\n",
        "\n",
        "\t\tcudaDeviceReset();\n",
        "\t\treturn 0;\n",
        "}"
      ]
    }
  ],
  "metadata": {
    "accelerator": "GPU",
    "colab": {
      "include_colab_link": true,
      "provenance": []
    },
    "kernelspec": {
      "display_name": "Python 3",
      "name": "python3"
    },
    "language_info": {
      "name": "python"
    }
  },
  "nbformat": 4,
  "nbformat_minor": 0
}
