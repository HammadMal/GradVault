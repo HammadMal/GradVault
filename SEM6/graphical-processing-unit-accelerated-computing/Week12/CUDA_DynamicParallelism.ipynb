{
  "cells": [
    {
      "cell_type": "markdown",
      "metadata": {
        "colab_type": "text",
        "id": "view-in-github"
      },
      "source": [
        "<a href=\"https://colab.research.google.com/github/mmmovania/CUDA_Spring2023/blob/main/Week12/CUDA_DynamicParallelism.ipynb\" target=\"_parent\"><img src=\"https://colab.research.google.com/assets/colab-badge.svg\" alt=\"Open In Colab\"/></a>"
      ]
    },
    {
      "cell_type": "code",
      "execution_count": 1,
      "metadata": {
        "colab": {
          "base_uri": "https://localhost:8080/"
        },
        "id": "OB2MY3st-VUm",
        "outputId": "dde67893-744a-4969-b68f-bd82409ea35b"
      },
      "outputs": [
        {
          "name": "stdout",
          "output_type": "stream",
          "text": [
            "Looking in indexes: https://pypi.org/simple, https://us-python.pkg.dev/colab-wheels/public/simple/\n",
            "Collecting git+https://github.com/andreinechaev/nvcc4jupyter.git\n",
            "  Cloning https://github.com/andreinechaev/nvcc4jupyter.git to /tmp/pip-req-build-z2uhhe77\n",
            "  Running command git clone --filter=blob:none --quiet https://github.com/andreinechaev/nvcc4jupyter.git /tmp/pip-req-build-z2uhhe77\n",
            "  Resolved https://github.com/andreinechaev/nvcc4jupyter.git to commit aac710a35f52bb78ab34d2e52517237941399eff\n",
            "  Preparing metadata (setup.py) ... \u001b[?25l\u001b[?25hdone\n",
            "Building wheels for collected packages: NVCCPlugin\n",
            "  Building wheel for NVCCPlugin (setup.py) ... \u001b[?25l\u001b[?25hdone\n",
            "  Created wheel for NVCCPlugin: filename=NVCCPlugin-0.0.2-py3-none-any.whl size=4305 sha256=7f9a82b3d5894e2e8fe0a5adb2d35b5a73e7f669524307718d34e19fd5c17d34\n",
            "  Stored in directory: /tmp/pip-ephem-wheel-cache-_nnvo0lz/wheels/db/c1/1f/a2bb07bbb4a1ce3c43921252aeafaa6205f08637e292496f04\n",
            "Successfully built NVCCPlugin\n",
            "Installing collected packages: NVCCPlugin\n",
            "Successfully installed NVCCPlugin-0.0.2\n",
            "created output directory at /content/src\n",
            "Out bin /content/result.out\n"
          ]
        }
      ],
      "source": [
        "!pip install git+https://github.com/andreinechaev/nvcc4jupyter.git\n",
        "%load_ext nvcc_plugin"
      ]
    },
    {
      "cell_type": "code",
      "execution_count": 4,
      "metadata": {
        "colab": {
          "base_uri": "https://localhost:8080/"
        },
        "id": "GYZ627HO-XKd",
        "outputId": "281b6cba-3005-48a7-adb7-3cf93cef7522"
      },
      "outputs": [
        {
          "name": "stdout",
          "output_type": "stream",
          "text": [
            "/tmp/tmp21ykqr3p/4329d123-c15b-4f72-b8d7-c52c0c634ad8.cu(46): error: kernel launch from __device__ or __global__ functions requires separate compilation mode\n",
            "\n",
            "1 error detected in the compilation of \"/tmp/tmp21ykqr3p/4329d123-c15b-4f72-b8d7-c52c0c634ad8.cu\".\n",
            "\n"
          ]
        }
      ],
      "source": [
        "%%writefile dp.cu\n",
        "//example given here: https://stackoverflow.com/questions/64516177/call-kernel-inside-cuda-kernel\n",
        "\n",
        "//this example wont work on Colab GPU since the required compute capability for \n",
        "//kernel launch from another kernel is compute capability 3.5\n",
        " \n",
        "#include <stdio.h>\n",
        "const int N = 100;//33 * 1024;\n",
        "const int threadsPerBlock = 32;// 256;\n",
        "\n",
        "#define imin(a,b) (a<b?a:b)\n",
        "\n",
        "const int blocksPerGrid =  imin( 32, (N+threadsPerBlock-1) / threadsPerBlock );\n",
        "\n",
        "inline cudaError_t checkCudaErr(cudaError_t err, const char* msg) {\n",
        "\tif (err != cudaSuccess) {\n",
        "\t\tfprintf(stderr, \"CUDA Runtime error at %s: %s\\n\", msg, cudaGetErrorString(err));\n",
        "\t}\n",
        "\treturn err;\n",
        "}\n",
        "\n",
        "__global__ void kernel( float *a, float *b, int N ) \n",
        "{\n",
        "\tint i = threadIdx.x + blockDim.x*blockIdx.x;\n",
        "\tif(i < N)\n",
        "\t{\n",
        "\t\t\tfor(int j=i; j< min(i+5, N); j++)\n",
        "\t\t\t{\n",
        "\t\t\t\t\tb[i] += a[j];\n",
        "\t\t\t}\n",
        "\t}\n",
        "}\n",
        "\n",
        "__global__ void kernel_child(int start, int end, float *a, float *b) \n",
        "{\n",
        "\tint j = start + threadIdx.x + blockDim.x*blockIdx.x;\n",
        "\tif(j < end)\n",
        "\t{\n",
        "\t\t\tb[j] += a[j];\t\t\t\n",
        "\t}\n",
        "}\n",
        "\n",
        "__global__ void kernel_parent( float *a, float *b, int start, int end ) \n",
        "{\n",
        "\tint i = threadIdx.x + blockDim.x*blockIdx.x;\n",
        "\n",
        "\tb[i] = a[i];\t\n",
        "\tkernel_child<<< (end-start)/32, 32>>>(start, end, a, b);\t\t\t \n",
        "}\n",
        "\n",
        "\n",
        "\n",
        "int main() \n",
        "{ \n",
        "\tfloat   *a = 0; \n",
        "  float   *b = 0;\n",
        "\tfloat   *c = 0;\n",
        "\n",
        "\t// Allocate Unified Memory -- accessible from CPU or GPU\n",
        "\tcheckCudaErr(cudaMallocManaged(&a, N*sizeof(float)), \"cudaMallocManaged1\");\n",
        "\tcheckCudaErr(cudaMallocManaged(&b, N*sizeof(float)), \"cudaMallocManaged2\"); \n",
        "\tcheckCudaErr(cudaMallocManaged(&c, N*sizeof(float)), \"cudaMallocManaged3\"); \n",
        "\n",
        "\t// fill in the memory with data\n",
        "\tfor (int i=0; i<N; i++) {\n",
        "\t\ta[i] = i+1; \n",
        "\t\tb[i] = 0;\n",
        "\t\tc[i] = 0;\n",
        "\t} \n",
        "\n",
        "\tkernel<<<blocksPerGrid,threadsPerBlock>>>( a, b, N );\n",
        "\n",
        "\tcudaDeviceSynchronize();\n",
        "\n",
        "\tkernel_parent<<<blocksPerGrid,threadsPerBlock>>>( a, b, 0, N-1 );\n",
        "  \n",
        "\tfor(int i=0; i<N;++i)\n",
        "\t\tprintf(\"%f\\n\", b[i]);\n",
        "\t\n",
        "\t// free memory on the gpu side\n",
        "\tcheckCudaErr( cudaFree( a ) , \"cudaFree1\");\n",
        "\tcheckCudaErr( cudaFree( b ) , \"cudaFree2\"); \n",
        "\tcheckCudaErr( cudaFree( c ) , \"cudaFree3\"); \n",
        "\tcheckCudaErr( cudaDeviceReset(), \"cudaDeviceReset\");\n",
        "\n",
        "\treturn 0;\n",
        "}"
      ]
    },
    {
      "cell_type": "code",
      "execution_count": null,
      "metadata": {},
      "outputs": [],
      "source": [
        "!nvcc -rdc=true dp.cu -o dp\n",
        "!./dp"
      ]
    }
  ],
  "metadata": {
    "accelerator": "GPU",
    "colab": {
      "include_colab_link": true,
      "name": "CUDA_DynamicParallelism.ipynb",
      "provenance": []
    },
    "kernelspec": {
      "display_name": "Python 3",
      "name": "python3"
    },
    "language_info": {
      "name": "python"
    }
  },
  "nbformat": 4,
  "nbformat_minor": 0
}
